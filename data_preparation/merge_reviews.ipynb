{
 "cells": [
  {
   "cell_type": "code",
   "execution_count": 103,
   "metadata": {
    "colab": {
     "base_uri": "https://localhost:8080/",
     "height": 1000
    },
    "executionInfo": {
     "elapsed": 1772,
     "status": "ok",
     "timestamp": 1604602349326,
     "user": {
      "displayName": "Dan Sangiamo",
      "photoUrl": "",
      "userId": "15893043685094133814"
     },
     "user_tz": 360
    },
    "id": "YptopHO3o7UE",
    "outputId": "f31b9311-7248-4968-91a2-ca37a4089a95"
   },
   "outputs": [
    {
     "name": "stdout",
     "output_type": "stream",
     "text": [
      "    set_num             name  year  theme_id  num_parts  \\\n",
      "859  1195-1  Alien Encounter  2001       135         42   \n",
      "\n",
      "                                                  image_url  \n",
      "859  https://cdn.rebrickable.com/media/sets/1195-1/7383.jpg  \n"
     ]
    }
   ],
   "source": [
    "import pandas as pd\n",
    "import re\n",
    "pd.set_option('display.max_colwidth', None)\n",
    "\n",
    "\n",
    "reviews = pd.read_csv(\"final clean reviews.csv\")\n",
    "sets = pd.read_csv(\"sets.csv\")\n",
    "\n",
    "reviews=reviews.rename(columns = {'Set Number':'set_num'})\n",
    "reviews.head()\n",
    "sets.head()\n",
    "\n",
    "result = pd.merge(reviews, sets, on='set_num')\n",
    "result.head()\n",
    "result.to_csv(\"clean reviews.csv\", index=False)\n",
    "\n",
    "result = pd.read_csv(\"clean reviews.csv\")\n",
    "newFile = result.copy()\n",
    "newFile['review'].replace(r'\\\\r', '', regex=True, inplace=True) \n",
    "newFile['review'].replace(r'\\\\n', '', regex=True, inplace=True) \n",
    "newFile['review'].replace(r'&#39;', '\\'', regex=True, inplace=True) \n",
    "newFile['review'].replace(r'&nsp;', '\\'', regex=True, inplace=True) \n",
    "newFile['review'].replace(r'\\\\s', '\\'s', regex=True, inplace=True) \n",
    "newFile['review'].replace(r'\\\\t', '\\'t', regex=True, inplace=True) \n",
    "newFile['review'].replace(r'\\\\ve', '\\'ve', regex=True, inplace=True) \n",
    "newFile['review'].str.strip()\n",
    "newFile['review'].str.lstrip(' ')\n",
    "newFile.head()\n",
    "csv = newFile.to_csv(\"reviews.csv\",index=False)\n",
    "\n"
   ]
  },
  {
   "cell_type": "code",
   "execution_count": null,
   "metadata": {
    "id": "tgIfKxCSpYxH"
   },
   "outputs": [],
   "source": []
  }
 ],
 "metadata": {
  "colab": {
   "authorship_tag": "ABX9TyN/zacYieFuk9C0SdpETIXk",
   "mount_file_id": "1nrNnsyXQ_NRngD8iHbOCPREzDEYqrH3y",
   "name": "clean_reviews.ipynb",
   "provenance": []
  },
  "kernelspec": {
   "display_name": "Python 3",
   "language": "python",
   "name": "python3"
  },
  "language_info": {
   "codemirror_mode": {
    "name": "ipython",
    "version": 3
   },
   "file_extension": ".py",
   "mimetype": "text/x-python",
   "name": "python",
   "nbconvert_exporter": "python",
   "pygments_lexer": "ipython3",
   "version": "3.8.3"
  }
 },
 "nbformat": 4,
 "nbformat_minor": 1
}
